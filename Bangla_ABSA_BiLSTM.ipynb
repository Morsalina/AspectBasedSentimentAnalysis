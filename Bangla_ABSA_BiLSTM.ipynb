{
  "nbformat": 4,
  "nbformat_minor": 0,
  "metadata": {
    "colab": {
      "provenance": []
    },
    "kernelspec": {
      "name": "python3",
      "display_name": "Python 3"
    },
    "language_info": {
      "name": "python"
    }
  },
  "cells": [
    {
      "cell_type": "code",
      "source": [
        "! git clone https://github.com/atik-05/Bangla_ABSA_Datasets.git"
      ],
      "metadata": {
        "colab": {
          "base_uri": "https://localhost:8080/"
        },
        "id": "9rstpl_uI11L",
        "outputId": "470f4763-9f00-49b0-c117-7b24fedb49cd"
      },
      "execution_count": null,
      "outputs": [
        {
          "output_type": "stream",
          "name": "stdout",
          "text": [
            "Cloning into 'Bangla_ABSA_Datasets'...\n",
            "remote: Enumerating objects: 7, done.\u001b[K\n",
            "remote: Counting objects: 100% (3/3), done.\u001b[K\n",
            "remote: Compressing objects: 100% (3/3), done.\u001b[K\n",
            "remote: Total 7 (delta 0), reused 0 (delta 0), pack-reused 4\u001b[K\n",
            "Unpacking objects: 100% (7/7), 365.69 KiB | 2.16 MiB/s, done.\n"
          ]
        }
      ]
    },
    {
      "cell_type": "code",
      "source": [
        "!pip install -q keras.utils\n",
        "!pip install -q tensorflow"
      ],
      "metadata": {
        "colab": {
          "base_uri": "https://localhost:8080/"
        },
        "id": "OBxtZaflACAP",
        "outputId": "2e5f97d2-a85c-4bdc-85b4-cc9b65caa1a2"
      },
      "execution_count": null,
      "outputs": [
        {
          "output_type": "stream",
          "name": "stdout",
          "text": [
            "  Preparing metadata (setup.py) ... \u001b[?25l\u001b[?25hdone\n",
            "  Building wheel for keras.utils (setup.py) ... \u001b[?25l\u001b[?25hdone\n"
          ]
        }
      ]
    },
    {
      "cell_type": "code",
      "source": [
        "# Import our dependencies\n",
        "import tensorflow as tf\n",
        "import pandas as pd\n",
        "import tensorflow_hub as hub\n",
        "import os\n",
        "import re\n",
        "from keras import backend as K\n",
        "import keras.layers as layers\n",
        "from keras.models import Model, load_model\n",
        "from tensorflow.keras.layers import Layer, InputSpec\n",
        "import numpy as np"
      ],
      "metadata": {
        "id": "teHTq15WAG4E"
      },
      "execution_count": null,
      "outputs": []
    },
    {
      "cell_type": "code",
      "source": [
        "import os\n",
        "import numpy as np\n",
        "from sklearn.model_selection import train_test_split\n",
        "from keras.models import Model\n",
        "from keras.layers import Input, Embedding, SpatialDropout1D, Dropout, Conv1D, MaxPool1D, Flatten, concatenate, Dense, \\\n",
        "    LSTM, Bidirectional, Activation, MaxPooling1D, Add, GRU, GlobalAveragePooling1D, GlobalMaxPooling1D, RepeatVector, \\\n",
        "    TimeDistributed, Permute, multiply, Lambda, add, Masking, BatchNormalization, Softmax, Reshape, ReLU, \\\n",
        "    ZeroPadding1D, subtract\n",
        "from tensorflow.keras.preprocessing.sequence import pad_sequences\n",
        "from tensorflow.keras.utils import to_categorical\n",
        "from tensorflow.keras.callbacks import Callback, ModelCheckpoint, EarlyStopping\n",
        "import tensorflow.keras.backend as K\n",
        "import tensorflow as tf\n",
        "from keras import backend as K, initializers, regularizers, constraints"
      ],
      "metadata": {
        "id": "sSD_fRGQ_9ux"
      },
      "execution_count": null,
      "outputs": []
    },
    {
      "cell_type": "code",
      "source": [
        "from statistics import mode\n",
        "\n",
        "import numpy as np # linear algebra\n",
        "import pandas as pd # data processing, CSV file I/O (e.g. pd.read_csv)\n",
        "import matplotlib\n",
        "import matplotlib.pyplot as plt\n",
        "import nltk\n",
        "import seaborn as sns\n",
        "from nltk.tokenize import word_tokenize\n",
        "from nltk.corpus import stopwords\n",
        "%matplotlib inline\n",
        "import tensorflow as tf"
      ],
      "metadata": {
        "id": "-E7YDPxGJTIW"
      },
      "execution_count": null,
      "outputs": []
    },
    {
      "cell_type": "code",
      "source": [
        "!pip install -q transformers"
      ],
      "metadata": {
        "colab": {
          "base_uri": "https://localhost:8080/"
        },
        "id": "xCm0i6zaAOvH",
        "outputId": "f48c2492-85a9-48b5-b406-9644b12b166f"
      },
      "execution_count": null,
      "outputs": [
        {
          "output_type": "stream",
          "name": "stdout",
          "text": [
            "\u001b[2K     \u001b[90m━━━━━━━━━━━━━━━━━━━━━━━━━━━━━━━━━━━━━━━━\u001b[0m \u001b[32m7.1/7.1 MB\u001b[0m \u001b[31m47.8 MB/s\u001b[0m eta \u001b[36m0:00:00\u001b[0m\n",
            "\u001b[2K     \u001b[90m━━━━━━━━━━━━━━━━━━━━━━━━━━━━━━━━━━━━━━\u001b[0m \u001b[32m224.5/224.5 kB\u001b[0m \u001b[31m21.6 MB/s\u001b[0m eta \u001b[36m0:00:00\u001b[0m\n",
            "\u001b[2K     \u001b[90m━━━━━━━━━━━━━━━━━━━━━━━━━━━━━━━━━━━━━━━━\u001b[0m \u001b[32m7.8/7.8 MB\u001b[0m \u001b[31m81.7 MB/s\u001b[0m eta \u001b[36m0:00:00\u001b[0m\n",
            "\u001b[?25h"
          ]
        }
      ]
    },
    {
      "cell_type": "code",
      "source": [
        "# Then what you need from tensorflow.keras\n",
        "from tensorflow.keras.layers import Input, Dropout, Dense, GlobalAveragePooling1D\n",
        "from tensorflow.keras.callbacks import ReduceLROnPlateau\n",
        "from tensorflow.keras.models import Model\n",
        "from tensorflow.keras.optimizers import Adam\n",
        "from tensorflow.keras.callbacks import EarlyStopping\n",
        "from tensorflow.keras.initializers import TruncatedNormal\n",
        "from tensorflow.keras.losses import CategoricalCrossentropy\n",
        "from tensorflow.keras.metrics import CategoricalAccuracy\n",
        "from tensorflow.keras.utils import to_categorical\n",
        "from sklearn.model_selection import train_test_split"
      ],
      "metadata": {
        "id": "xbuLivedAlHe"
      },
      "execution_count": null,
      "outputs": []
    },
    {
      "cell_type": "code",
      "source": [
        "from transformers import TFBertModel,  BertConfig, BertTokenizerFast, TFAutoModel"
      ],
      "metadata": {
        "id": "vOwfPRX9ASsF"
      },
      "execution_count": null,
      "outputs": []
    },
    {
      "cell_type": "code",
      "source": [
        "from tensorflow.python.keras import backend as K\n",
        "from tensorflow.python.keras.metrics import Metric\n",
        "from tensorflow.python.keras.utils import metrics_utils\n",
        "from tensorflow.python.ops import init_ops\n",
        "from tensorflow.python.ops import math_ops\n",
        "from tensorflow.python.keras.utils.generic_utils import to_list\n",
        "import tensorflow_hub as hub"
      ],
      "metadata": {
        "id": "7LGtVeLtAeoE"
      },
      "execution_count": null,
      "outputs": []
    },
    {
      "cell_type": "code",
      "source": [
        "# neural\n",
        "from keras.preprocessing.text import Tokenizer\n",
        "from keras.utils import pad_sequences\n",
        "from keras.layers import Dense, LSTM, Embedding, Dropout\n",
        "from keras.layers import Bidirectional, GlobalMaxPool1D\n",
        "from keras.models import Model, Sequential"
      ],
      "metadata": {
        "id": "w963_DOoAbr2"
      },
      "execution_count": null,
      "outputs": []
    },
    {
      "cell_type": "code",
      "source": [
        "#Metrics\n",
        "from sklearn.metrics import balanced_accuracy_score\n",
        "\n",
        "from sklearn.feature_extraction.text import TfidfVectorizer\n",
        "from mlxtend.plotting import plot_confusion_matrix\n",
        "from sklearn.tree import DecisionTreeClassifier\n",
        "from sklearn.metrics import classification_report,confusion_matrix,accuracy_score\n",
        "from sklearn.linear_model import LogisticRegression,SGDClassifier\n",
        "from sklearn.naive_bayes import MultinomialNB\n",
        "from sklearn.ensemble import RandomForestClassifier,GradientBoostingClassifier,AdaBoostClassifier,ExtraTreesClassifier"
      ],
      "metadata": {
        "id": "THKL5p50AZaB"
      },
      "execution_count": null,
      "outputs": []
    },
    {
      "cell_type": "code",
      "source": [
        "restaurant_df = pd.read_excel('/content/Bangla_ABSA_Datasets/Restaurant.xlsx')"
      ],
      "metadata": {
        "id": "BtV9BbsUJBS1"
      },
      "execution_count": null,
      "outputs": []
    },
    {
      "cell_type": "code",
      "source": [
        "restaurant_df"
      ],
      "metadata": {
        "colab": {
          "base_uri": "https://localhost:8080/",
          "height": 424
        },
        "id": "_Zi7O0ssJ5Wu",
        "outputId": "f1ec2f7f-3d46-4c9f-d521-41c7cf7c38ee"
      },
      "execution_count": null,
      "outputs": [
        {
          "output_type": "execute_result",
          "data": {
            "text/plain": [
              "        SL                                               Text  \\\n",
              "0        0              স্টাফ কিন্তু, আমাদের জন্য ভয়ঙ্কর ছিল।   \n",
              "1        1  শুধুমাত্র,রিডামিং ফ্যাক্টর খাদ্য ছিল,পুরোপুরি ...   \n",
              "2        2  শুধুমাত্র,রিডামিং ফ্যাক্টর খাদ্য ছিল,পুরোপুরি ...   \n",
              "3        3  খাবার একদমই ব্যতিক্রমী, একটি খুব সক্ষম রান্নাঘ...   \n",
              "4        4  যেখানে গাব্রিয়েলা লোকালি আপনাকে শুভেচ্ছা জানা...   \n",
              "...    ...                                                ...   \n",
              "2054  2108  তাই এটি এখন একটি খুব আকর্ষণীয় স্থান,Toons সম্...   \n",
              "2055  2109  একটি অ্যাভাইজার এবং ড্রিংক2 টি ফাইলের জন্য $ 1...   \n",
              "2056  2110  একটি অ্যাভাইজার এবং ড্রিংক2 টি ফাইলের জন্য $ 1...   \n",
              "2057  2111             অংশ বিশাল ছিল,দাম বিশেষ কিছু না হলেও,    \n",
              "2058  2112             অংশ বিশাল ছিল,দাম বিশেষ কিছু না হলেও,    \n",
              "\n",
              "                     Category  Polarity  \n",
              "0                     service  negative  \n",
              "1                        food  positive  \n",
              "2     anecdotes/miscellaneous  negative  \n",
              "3                        food  positive  \n",
              "4                     service  positive  \n",
              "...                       ...       ...  \n",
              "2054                 ambience  positive  \n",
              "2055                     food   neutral  \n",
              "2056                    price   neutral  \n",
              "2057                    price  positive  \n",
              "2058                     food  positive  \n",
              "\n",
              "[2059 rows x 4 columns]"
            ],
            "text/html": [
              "\n",
              "  <div id=\"df-ae9ca741-35b7-41cc-9963-fd007f51cd25\">\n",
              "    <div class=\"colab-df-container\">\n",
              "      <div>\n",
              "<style scoped>\n",
              "    .dataframe tbody tr th:only-of-type {\n",
              "        vertical-align: middle;\n",
              "    }\n",
              "\n",
              "    .dataframe tbody tr th {\n",
              "        vertical-align: top;\n",
              "    }\n",
              "\n",
              "    .dataframe thead th {\n",
              "        text-align: right;\n",
              "    }\n",
              "</style>\n",
              "<table border=\"1\" class=\"dataframe\">\n",
              "  <thead>\n",
              "    <tr style=\"text-align: right;\">\n",
              "      <th></th>\n",
              "      <th>SL</th>\n",
              "      <th>Text</th>\n",
              "      <th>Category</th>\n",
              "      <th>Polarity</th>\n",
              "    </tr>\n",
              "  </thead>\n",
              "  <tbody>\n",
              "    <tr>\n",
              "      <th>0</th>\n",
              "      <td>0</td>\n",
              "      <td>স্টাফ কিন্তু, আমাদের জন্য ভয়ঙ্কর ছিল।</td>\n",
              "      <td>service</td>\n",
              "      <td>negative</td>\n",
              "    </tr>\n",
              "    <tr>\n",
              "      <th>1</th>\n",
              "      <td>1</td>\n",
              "      <td>শুধুমাত্র,রিডামিং ফ্যাক্টর খাদ্য ছিল,পুরোপুরি ...</td>\n",
              "      <td>food</td>\n",
              "      <td>positive</td>\n",
              "    </tr>\n",
              "    <tr>\n",
              "      <th>2</th>\n",
              "      <td>2</td>\n",
              "      <td>শুধুমাত্র,রিডামিং ফ্যাক্টর খাদ্য ছিল,পুরোপুরি ...</td>\n",
              "      <td>anecdotes/miscellaneous</td>\n",
              "      <td>negative</td>\n",
              "    </tr>\n",
              "    <tr>\n",
              "      <th>3</th>\n",
              "      <td>3</td>\n",
              "      <td>খাবার একদমই ব্যতিক্রমী, একটি খুব সক্ষম রান্নাঘ...</td>\n",
              "      <td>food</td>\n",
              "      <td>positive</td>\n",
              "    </tr>\n",
              "    <tr>\n",
              "      <th>4</th>\n",
              "      <td>4</td>\n",
              "      <td>যেখানে গাব্রিয়েলা লোকালি আপনাকে শুভেচ্ছা জানা...</td>\n",
              "      <td>service</td>\n",
              "      <td>positive</td>\n",
              "    </tr>\n",
              "    <tr>\n",
              "      <th>...</th>\n",
              "      <td>...</td>\n",
              "      <td>...</td>\n",
              "      <td>...</td>\n",
              "      <td>...</td>\n",
              "    </tr>\n",
              "    <tr>\n",
              "      <th>2054</th>\n",
              "      <td>2108</td>\n",
              "      <td>তাই এটি এখন একটি খুব আকর্ষণীয় স্থান,Toons সম্...</td>\n",
              "      <td>ambience</td>\n",
              "      <td>positive</td>\n",
              "    </tr>\n",
              "    <tr>\n",
              "      <th>2055</th>\n",
              "      <td>2109</td>\n",
              "      <td>একটি অ্যাভাইজার এবং ড্রিংক2 টি ফাইলের জন্য $ 1...</td>\n",
              "      <td>food</td>\n",
              "      <td>neutral</td>\n",
              "    </tr>\n",
              "    <tr>\n",
              "      <th>2056</th>\n",
              "      <td>2110</td>\n",
              "      <td>একটি অ্যাভাইজার এবং ড্রিংক2 টি ফাইলের জন্য $ 1...</td>\n",
              "      <td>price</td>\n",
              "      <td>neutral</td>\n",
              "    </tr>\n",
              "    <tr>\n",
              "      <th>2057</th>\n",
              "      <td>2111</td>\n",
              "      <td>অংশ বিশাল ছিল,দাম বিশেষ কিছু না হলেও,</td>\n",
              "      <td>price</td>\n",
              "      <td>positive</td>\n",
              "    </tr>\n",
              "    <tr>\n",
              "      <th>2058</th>\n",
              "      <td>2112</td>\n",
              "      <td>অংশ বিশাল ছিল,দাম বিশেষ কিছু না হলেও,</td>\n",
              "      <td>food</td>\n",
              "      <td>positive</td>\n",
              "    </tr>\n",
              "  </tbody>\n",
              "</table>\n",
              "<p>2059 rows × 4 columns</p>\n",
              "</div>\n",
              "      <button class=\"colab-df-convert\" onclick=\"convertToInteractive('df-ae9ca741-35b7-41cc-9963-fd007f51cd25')\"\n",
              "              title=\"Convert this dataframe to an interactive table.\"\n",
              "              style=\"display:none;\">\n",
              "        \n",
              "  <svg xmlns=\"http://www.w3.org/2000/svg\" height=\"24px\"viewBox=\"0 0 24 24\"\n",
              "       width=\"24px\">\n",
              "    <path d=\"M0 0h24v24H0V0z\" fill=\"none\"/>\n",
              "    <path d=\"M18.56 5.44l.94 2.06.94-2.06 2.06-.94-2.06-.94-.94-2.06-.94 2.06-2.06.94zm-11 1L8.5 8.5l.94-2.06 2.06-.94-2.06-.94L8.5 2.5l-.94 2.06-2.06.94zm10 10l.94 2.06.94-2.06 2.06-.94-2.06-.94-.94-2.06-.94 2.06-2.06.94z\"/><path d=\"M17.41 7.96l-1.37-1.37c-.4-.4-.92-.59-1.43-.59-.52 0-1.04.2-1.43.59L10.3 9.45l-7.72 7.72c-.78.78-.78 2.05 0 2.83L4 21.41c.39.39.9.59 1.41.59.51 0 1.02-.2 1.41-.59l7.78-7.78 2.81-2.81c.8-.78.8-2.07 0-2.86zM5.41 20L4 18.59l7.72-7.72 1.47 1.35L5.41 20z\"/>\n",
              "  </svg>\n",
              "      </button>\n",
              "      \n",
              "  <style>\n",
              "    .colab-df-container {\n",
              "      display:flex;\n",
              "      flex-wrap:wrap;\n",
              "      gap: 12px;\n",
              "    }\n",
              "\n",
              "    .colab-df-convert {\n",
              "      background-color: #E8F0FE;\n",
              "      border: none;\n",
              "      border-radius: 50%;\n",
              "      cursor: pointer;\n",
              "      display: none;\n",
              "      fill: #1967D2;\n",
              "      height: 32px;\n",
              "      padding: 0 0 0 0;\n",
              "      width: 32px;\n",
              "    }\n",
              "\n",
              "    .colab-df-convert:hover {\n",
              "      background-color: #E2EBFA;\n",
              "      box-shadow: 0px 1px 2px rgba(60, 64, 67, 0.3), 0px 1px 3px 1px rgba(60, 64, 67, 0.15);\n",
              "      fill: #174EA6;\n",
              "    }\n",
              "\n",
              "    [theme=dark] .colab-df-convert {\n",
              "      background-color: #3B4455;\n",
              "      fill: #D2E3FC;\n",
              "    }\n",
              "\n",
              "    [theme=dark] .colab-df-convert:hover {\n",
              "      background-color: #434B5C;\n",
              "      box-shadow: 0px 1px 3px 1px rgba(0, 0, 0, 0.15);\n",
              "      filter: drop-shadow(0px 1px 2px rgba(0, 0, 0, 0.3));\n",
              "      fill: #FFFFFF;\n",
              "    }\n",
              "  </style>\n",
              "\n",
              "      <script>\n",
              "        const buttonEl =\n",
              "          document.querySelector('#df-ae9ca741-35b7-41cc-9963-fd007f51cd25 button.colab-df-convert');\n",
              "        buttonEl.style.display =\n",
              "          google.colab.kernel.accessAllowed ? 'block' : 'none';\n",
              "\n",
              "        async function convertToInteractive(key) {\n",
              "          const element = document.querySelector('#df-ae9ca741-35b7-41cc-9963-fd007f51cd25');\n",
              "          const dataTable =\n",
              "            await google.colab.kernel.invokeFunction('convertToInteractive',\n",
              "                                                     [key], {});\n",
              "          if (!dataTable) return;\n",
              "\n",
              "          const docLinkHtml = 'Like what you see? Visit the ' +\n",
              "            '<a target=\"_blank\" href=https://colab.research.google.com/notebooks/data_table.ipynb>data table notebook</a>'\n",
              "            + ' to learn more about interactive tables.';\n",
              "          element.innerHTML = '';\n",
              "          dataTable['output_type'] = 'display_data';\n",
              "          await google.colab.output.renderOutput(dataTable, element);\n",
              "          const docLink = document.createElement('div');\n",
              "          docLink.innerHTML = docLinkHtml;\n",
              "          element.appendChild(docLink);\n",
              "        }\n",
              "      </script>\n",
              "    </div>\n",
              "  </div>\n",
              "  "
            ]
          },
          "metadata": {},
          "execution_count": 17
        }
      ]
    },
    {
      "cell_type": "code",
      "source": [
        "restaurant_df['Polarity'].isna().sum()"
      ],
      "metadata": {
        "colab": {
          "base_uri": "https://localhost:8080/"
        },
        "id": "rFPvPfHRB6VH",
        "outputId": "c7fa9a7c-c7f7-4a88-8885-be7a4d6bdd7c"
      },
      "execution_count": null,
      "outputs": [
        {
          "output_type": "execute_result",
          "data": {
            "text/plain": [
              "0"
            ]
          },
          "metadata": {},
          "execution_count": 18
        }
      ]
    },
    {
      "cell_type": "code",
      "source": [
        "restaurant_df['Polarity'][restaurant_df[\"Polarity\"] == 'negative'] = 0\n",
        "restaurant_df['Polarity'][restaurant_df[\"Polarity\"] == 'positive'] = 1\n",
        "restaurant_df['Polarity'][restaurant_df[\"Polarity\"] == 'neutral'] = 2"
      ],
      "metadata": {
        "colab": {
          "base_uri": "https://localhost:8080/"
        },
        "id": "ydZ7L_kGCCJZ",
        "outputId": "155bd0f9-b386-4449-b006-b3a22686e8da"
      },
      "execution_count": null,
      "outputs": [
        {
          "output_type": "stream",
          "name": "stderr",
          "text": [
            "<ipython-input-19-da4907ed5459>:1: SettingWithCopyWarning: \n",
            "A value is trying to be set on a copy of a slice from a DataFrame\n",
            "\n",
            "See the caveats in the documentation: https://pandas.pydata.org/pandas-docs/stable/user_guide/indexing.html#returning-a-view-versus-a-copy\n",
            "  restaurant_df['Polarity'][restaurant_df[\"Polarity\"] == 'negative'] = 0\n",
            "<ipython-input-19-da4907ed5459>:2: SettingWithCopyWarning: \n",
            "A value is trying to be set on a copy of a slice from a DataFrame\n",
            "\n",
            "See the caveats in the documentation: https://pandas.pydata.org/pandas-docs/stable/user_guide/indexing.html#returning-a-view-versus-a-copy\n",
            "  restaurant_df['Polarity'][restaurant_df[\"Polarity\"] == 'positive'] = 1\n",
            "<ipython-input-19-da4907ed5459>:3: SettingWithCopyWarning: \n",
            "A value is trying to be set on a copy of a slice from a DataFrame\n",
            "\n",
            "See the caveats in the documentation: https://pandas.pydata.org/pandas-docs/stable/user_guide/indexing.html#returning-a-view-versus-a-copy\n",
            "  restaurant_df['Polarity'][restaurant_df[\"Polarity\"] == 'neutral'] = 2\n"
          ]
        }
      ]
    },
    {
      "cell_type": "code",
      "source": [
        "Aspects_term =restaurant_df['Polarity'].unique()\n",
        "Aspects_term[:20]"
      ],
      "metadata": {
        "colab": {
          "base_uri": "https://localhost:8080/"
        },
        "id": "tjyWsl1xCYpH",
        "outputId": "27458dd2-b5cf-49ca-c953-9f0a8ea06c74"
      },
      "execution_count": null,
      "outputs": [
        {
          "output_type": "execute_result",
          "data": {
            "text/plain": [
              "array([0, 1, 2, 'conflict'], dtype=object)"
            ]
          },
          "metadata": {},
          "execution_count": 20
        }
      ]
    },
    {
      "cell_type": "code",
      "source": [
        "restaurant_df.drop(restaurant_df[restaurant_df.Polarity == 'conflict'].index, inplace = True)"
      ],
      "metadata": {
        "id": "NTKMEtwVCmvg"
      },
      "execution_count": null,
      "outputs": []
    },
    {
      "cell_type": "code",
      "source": [
        "y=restaurant_df['Polarity'].values.astype(np.float32)"
      ],
      "metadata": {
        "id": "hq0W2TjAM8MT"
      },
      "execution_count": null,
      "outputs": []
    },
    {
      "cell_type": "code",
      "source": [
        "# X_train, X_test, y_train, y_test = train_test_split(restaurant_df,restaurant_df['Polarity'],stratify=restaurant_df['Polarity'], test_size=0.2, random_state=1)\n",
        "X_train, X_test, y_train, y_test = train_test_split(restaurant_df,y,stratify=restaurant_df['Polarity'], test_size=0.2, random_state=1)"
      ],
      "metadata": {
        "id": "d5WgFYJzC_q3"
      },
      "execution_count": null,
      "outputs": []
    },
    {
      "cell_type": "code",
      "source": [
        "X_train.Text.size"
      ],
      "metadata": {
        "colab": {
          "base_uri": "https://localhost:8080/"
        },
        "id": "3zFTdWSFDINz",
        "outputId": "060bd169-27be-491c-9250-382e730ba7eb"
      },
      "execution_count": null,
      "outputs": [
        {
          "output_type": "execute_result",
          "data": {
            "text/plain": [
              "1555"
            ]
          },
          "metadata": {},
          "execution_count": 24
        }
      ]
    },
    {
      "cell_type": "code",
      "source": [
        "# Display the shape of the target values!\n",
        "y_train.shape"
      ],
      "metadata": {
        "colab": {
          "base_uri": "https://localhost:8080/"
        },
        "id": "HqelEtWKHIjI",
        "outputId": "16f6f117-f018-4d79-8695-63878012a224"
      },
      "execution_count": null,
      "outputs": [
        {
          "output_type": "execute_result",
          "data": {
            "text/plain": [
              "(1555,)"
            ]
          },
          "metadata": {},
          "execution_count": 25
        }
      ]
    },
    {
      "cell_type": "markdown",
      "source": [
        "Bangla Embedding"
      ],
      "metadata": {
        "id": "XA2Ablhq_A-Q"
      }
    },
    {
      "cell_type": "code",
      "source": [
        "glove_file = open('/content/bn_glove.39M.300d.txt')\n",
        "embeddings_index = dict()\n",
        "for line in glove_file:\n",
        "    val = line.split(' ')\n",
        "    word = val[0]\n",
        "    coefs = np.asarray(val[1:], dtype='float32')\n",
        "    embeddings_index[word] = coefs\n",
        "glove_file.close()\n",
        "\n",
        "print('Loaded %s word vectors.' % len(embeddings_index))"
      ],
      "metadata": {
        "colab": {
          "base_uri": "https://localhost:8080/"
        },
        "id": "AvU_yckW_DtQ",
        "outputId": "13f78a4a-501f-4788-8550-d7d99e11fc0c"
      },
      "execution_count": null,
      "outputs": [
        {
          "output_type": "stream",
          "name": "stdout",
          "text": [
            "Loaded 17167 word vectors.\n"
          ]
        }
      ]
    },
    {
      "cell_type": "code",
      "source": [
        "NUM_WORDS = 100000 ## MAx of words to keep, based on word frequency.\n",
        "EMBEDDING_SIZE = 128 ## the length of the Vector the will"
      ],
      "metadata": {
        "id": "AMaPGpi2Bgs5"
      },
      "execution_count": null,
      "outputs": []
    },
    {
      "cell_type": "code",
      "source": [
        "tokenizer = Tokenizer(NUM_WORDS)\n",
        "tokenizer.fit_on_texts(list(X_train.Text))\n",
        "\n",
        "\n",
        "# tokenizer.fit_on_texts(list(X_train.Text))\n",
        "text_X_train_tokenized = tokenizer.texts_to_sequences(X_train.Text) # list of tokenized sentences\n",
        "Aspect_X_train_tokenized = tokenizer.texts_to_sequences(X_train['Category'])#tokenized sentences\n",
        "text_X_test_tokenized = tokenizer.texts_to_sequences(X_test.Text) # list of tokenized sentences\n",
        "Aspect_X_test_tokenized = tokenizer.texts_to_sequences(X_test['Category']) # list of tokenized sentences\n",
        "#Convert tokenized commnent to sequnces\n",
        "# X_train = tokenizer.texts_to_sequences(X_train)\n",
        "# X_test = tokenizer.texts_to_sequences(X_test)\n",
        "\n",
        "# padding the sequences\n",
        "# X_train = pad_sequences(X_train, max_len, padding='post')\n",
        "# X_test  = pad_sequences(X_test,  max_len, padding='post')\n",
        "\n",
        "print('X_train shape:', X_train.shape)\n",
        "print('X_test shape: ', X_test.shape)\n",
        "\n",
        "\n",
        "embedding_matrix = np.zeros((len(tokenizer.word_index)+1, 300))\n",
        "\n",
        "for word, i in tokenizer.word_index.items():\n",
        "    embedding_vector = embeddings_index.get(word)\n",
        "    if embedding_vector is not None:\n",
        "        embedding_matrix[i] = embedding_vector"
      ],
      "metadata": {
        "colab": {
          "base_uri": "https://localhost:8080/"
        },
        "id": "2HcWbgR2_bgk",
        "outputId": "97d00227-d593-4481-a15d-bbc73ddd5393"
      },
      "execution_count": null,
      "outputs": [
        {
          "output_type": "stream",
          "name": "stdout",
          "text": [
            "X_train shape: (1555, 4)\n",
            "X_test shape:  (389, 4)\n"
          ]
        }
      ]
    },
    {
      "cell_type": "code",
      "source": [
        "max_len =  max([len(one_title) for one_title in text_X_train_tokenized])\n",
        "max_len"
      ],
      "metadata": {
        "colab": {
          "base_uri": "https://localhost:8080/"
        },
        "id": "YabjynYHD1Cm",
        "outputId": "2b845897-b648-499b-8604-67e3ba26341e"
      },
      "execution_count": null,
      "outputs": [
        {
          "output_type": "execute_result",
          "data": {
            "text/plain": [
              "51"
            ]
          },
          "metadata": {},
          "execution_count": 82
        }
      ]
    },
    {
      "cell_type": "code",
      "source": [
        "text_X_train_padded = pad_sequences(text_X_train_tokenized, maxlen=max_len)\n",
        "aspect_X_train_padded = pad_sequences(Aspect_X_train_tokenized, maxlen=1)\n",
        "\n",
        "text_X_test_padded = pad_sequences(text_X_test_tokenized, maxlen=max_len)\n",
        "aspect_X_test_padded = pad_sequences(Aspect_X_test_tokenized, maxlen=1)"
      ],
      "metadata": {
        "id": "kWAEJ72mD5U_"
      },
      "execution_count": null,
      "outputs": []
    },
    {
      "cell_type": "code",
      "source": [
        "aspect_X_train_padded[0]"
      ],
      "metadata": {
        "colab": {
          "base_uri": "https://localhost:8080/"
        },
        "id": "eIR-pxNDEOUC",
        "outputId": "995855ad-00cb-4a77-97e3-9f0fd9cd993d"
      },
      "execution_count": null,
      "outputs": [
        {
          "output_type": "execute_result",
          "data": {
            "text/plain": [
              "array([0], dtype=int32)"
            ]
          },
          "metadata": {},
          "execution_count": 84
        }
      ]
    },
    {
      "cell_type": "code",
      "source": [
        "train_data =  [text_X_train_padded,aspect_X_train_padded]\n",
        "test_data =   [text_X_test_padded,aspect_X_test_padded]"
      ],
      "metadata": {
        "id": "xnFoCgEnEUhr"
      },
      "execution_count": null,
      "outputs": []
    },
    {
      "cell_type": "code",
      "source": [
        "type(train_data)"
      ],
      "metadata": {
        "colab": {
          "base_uri": "https://localhost:8080/"
        },
        "id": "cZsX5QluMZYM",
        "outputId": "a12a9fbe-1963-4326-b438-c9a9b485f084"
      },
      "execution_count": null,
      "outputs": [
        {
          "output_type": "execute_result",
          "data": {
            "text/plain": [
              "list"
            ]
          },
          "metadata": {},
          "execution_count": 76
        }
      ]
    },
    {
      "cell_type": "code",
      "source": [
        "test_data[1][0]"
      ],
      "metadata": {
        "colab": {
          "base_uri": "https://localhost:8080/"
        },
        "id": "h0nURKZMFIqi",
        "outputId": "df5f6ae4-b5fb-42ef-8446-ca0461aef190"
      },
      "execution_count": null,
      "outputs": [
        {
          "output_type": "execute_result",
          "data": {
            "text/plain": [
              "array([0], dtype=int32)"
            ]
          },
          "metadata": {},
          "execution_count": 77
        }
      ]
    },
    {
      "cell_type": "code",
      "source": [
        "Max_Len = max_len"
      ],
      "metadata": {
        "id": "1ISiHd-6a9q_"
      },
      "execution_count": null,
      "outputs": []
    },
    {
      "cell_type": "code",
      "source": [
        "from tensorflow.keras import backend as K\n",
        "from tensorflow.keras.layers import Layer\n",
        "\n",
        "class Attention(Layer):\n",
        "    def __init__(self, return_attend_weight=True, **kwargs):\n",
        "        self.supports_masking = True\n",
        "        self.return_attend_weight = return_attend_weight\n",
        "        super(Attention, self).__init__(**kwargs)\n",
        "\n",
        "    def build(self, input_shape):\n",
        "        self.W = self.add_weight(shape=(input_shape[-1],), initializer='glorot_uniform', name='attention_weight')\n",
        "        super(Attention, self).build(input_shape)\n",
        "\n",
        "    def call(self, x, mask=None):\n",
        "        e = K.squeeze(K.dot(x, K.expand_dims(self.W)), axis=-1)\n",
        "        a = K.softmax(e)\n",
        "        if mask is not None:\n",
        "            mask = K.cast(mask, K.floatx())\n",
        "            a = mask * a\n",
        "            a = a / (K.epsilon() + K.sum(a, axis=1, keepdims=True))\n",
        "        attended_input = K.batch_dot(a, x, axes=[1, 1])\n",
        "        if self.return_attend_weight:\n",
        "            return [attended_input, a]\n",
        "        else:\n",
        "            return attended_input\n",
        "\n",
        "    def compute_output_shape(self, input_shape):\n",
        "        if self.return_attend_weight:\n",
        "            return [(input_shape[0], input_shape[-1]), (input_shape[0], input_shape[1])]\n",
        "        else:\n",
        "            return input_shape[0], input_shape[-1]\n"
      ],
      "metadata": {
        "id": "mONGWubTg5GS"
      },
      "execution_count": null,
      "outputs": []
    },
    {
      "cell_type": "code",
      "source": [
        "from tensorflow.keras.layers import Input, Embedding, SpatialDropout1D, LSTM, Bidirectional, Dense, Activation, concatenate, Multiply, RepeatVector, Lambda, Flatten, add\n",
        "from tensorflow.keras.models import Model\n",
        "\n",
        "def bilstm_attention(lstm_units=128):\n",
        "    input_text = Input(shape=(max_len,))\n",
        "    input_aspect = Input(shape=(1,))\n",
        "\n",
        "    word_embedding = Embedding(NUM_WORDS, EMBEDDING_SIZE, input_length=max_len)\n",
        "    text_embed = SpatialDropout1D(0.2)(word_embedding(input_text))\n",
        "\n",
        "    asp_embedding = Embedding(NUM_WORDS, EMBEDDING_SIZE, input_length=max_len)\n",
        "\n",
        "    aspect_embed = asp_embedding(input_aspect)\n",
        "    aspect_embed = Flatten()(aspect_embed)\n",
        "    repeat_aspect = RepeatVector(max_len)(aspect_embed)\n",
        "\n",
        "    input_concat = concatenate([text_embed, repeat_aspect], axis=-1)\n",
        "    hidden_vecs, forward_h, forward_c, backward_h, backward_c = Bidirectional(LSTM(lstm_units, return_sequences=True, return_state=True))(input_concat)\n",
        "\n",
        "    # Apply attention mechanism\n",
        "    attend_weight, attend_output = Attention(return_attend_weight=True)(hidden_vecs)\n",
        "    attend_hidden = Multiply()([hidden_vecs, attend_weight])\n",
        "    attend_hidden = Lambda(lambda x: K.sum(x, axis=1))(attend_hidden)\n",
        "\n",
        "    attend_hidden_dense = Dense(lstm_units)(attend_hidden)\n",
        "    forward_dense = Dense(lstm_units)(forward_h)\n",
        "    backward_dense = Dense(lstm_units)(backward_h)\n",
        "    final_output = Activation('tanh')(add([attend_hidden_dense, forward_dense, backward_dense]))\n",
        "\n",
        "    return Model([input_text, input_aspect], final_output)\n"
      ],
      "metadata": {
        "id": "5vqgSM-WY1iO"
      },
      "execution_count": null,
      "outputs": []
    },
    {
      "cell_type": "code",
      "source": [
        "learning_rate_reduction = ReduceLROnPlateau(monitor='val_accuracy',\n",
        "                                                    patience = 1,\n",
        "                                                    verbose=1,\n",
        "                                                    factor=0.1,\n",
        "                                                    min_lr=0.00001)\n",
        "\n",
        "from tensorflow.keras.optimizers import Adam\n",
        "\n",
        "model = bilstm_attention()\n",
        "model.compile(loss='sparse_categorical_crossentropy', metrics=['accuracy'], optimizer='adam')\n",
        "\n",
        "history = model.fit(x=train_data, y=y_train, validation_data=(test_data, y_test), batch_size=32, epochs=20, callbacks=[learning_rate_reduction])\n",
        "\n",
        "\n"
      ],
      "metadata": {
        "colab": {
          "base_uri": "https://localhost:8080/"
        },
        "id": "A77ffaZ6ZcQ7",
        "outputId": "29544f34-c62d-4593-aa27-cbee75f070fc"
      },
      "execution_count": null,
      "outputs": [
        {
          "output_type": "stream",
          "name": "stdout",
          "text": [
            "Epoch 1/20\n",
            "49/49 [==============================] - 24s 366ms/step - loss: 1.2747 - accuracy: 0.6154 - val_loss: 0.8814 - val_accuracy: 0.6272 - lr: 0.0010\n",
            "Epoch 2/20\n",
            "49/49 [==============================] - ETA: 0s - loss: 0.8914 - accuracy: 0.6289\n",
            "Epoch 2: ReduceLROnPlateau reducing learning rate to 0.00010000000474974513.\n",
            "49/49 [==============================] - 17s 357ms/step - loss: 0.8914 - accuracy: 0.6289 - val_loss: 0.8529 - val_accuracy: 0.6272 - lr: 0.0010\n",
            "Epoch 3/20\n",
            "49/49 [==============================] - ETA: 0s - loss: 0.7652 - accuracy: 0.6283\n",
            "Epoch 3: ReduceLROnPlateau reducing learning rate to 1.0000000474974514e-05.\n",
            "49/49 [==============================] - 16s 320ms/step - loss: 0.7652 - accuracy: 0.6283 - val_loss: 0.8216 - val_accuracy: 0.6272 - lr: 1.0000e-04\n",
            "Epoch 4/20\n",
            "49/49 [==============================] - ETA: 0s - loss: 0.7229 - accuracy: 0.6296\n",
            "Epoch 4: ReduceLROnPlateau reducing learning rate to 1e-05.\n",
            "49/49 [==============================] - 15s 309ms/step - loss: 0.7229 - accuracy: 0.6296 - val_loss: 0.8523 - val_accuracy: 0.6272 - lr: 1.0000e-05\n",
            "Epoch 5/20\n",
            "49/49 [==============================] - 16s 319ms/step - loss: 0.7156 - accuracy: 0.6296 - val_loss: 0.8583 - val_accuracy: 0.6272 - lr: 1.0000e-05\n",
            "Epoch 6/20\n",
            "49/49 [==============================] - 15s 308ms/step - loss: 0.7041 - accuracy: 0.6296 - val_loss: 0.8759 - val_accuracy: 0.6272 - lr: 1.0000e-05\n",
            "Epoch 7/20\n",
            "49/49 [==============================] - 16s 318ms/step - loss: 0.6961 - accuracy: 0.6296 - val_loss: 0.8686 - val_accuracy: 0.6272 - lr: 1.0000e-05\n",
            "Epoch 8/20\n",
            "49/49 [==============================] - 15s 310ms/step - loss: 0.6811 - accuracy: 0.6296 - val_loss: 0.8679 - val_accuracy: 0.6272 - lr: 1.0000e-05\n",
            "Epoch 9/20\n",
            "49/49 [==============================] - 16s 319ms/step - loss: 0.6624 - accuracy: 0.6302 - val_loss: 0.9238 - val_accuracy: 0.6272 - lr: 1.0000e-05\n",
            "Epoch 10/20\n",
            "49/49 [==============================] - 16s 320ms/step - loss: 0.6483 - accuracy: 0.6309 - val_loss: 0.9967 - val_accuracy: 0.6272 - lr: 1.0000e-05\n",
            "Epoch 11/20\n",
            "49/49 [==============================] - 15s 308ms/step - loss: 0.6266 - accuracy: 0.6315 - val_loss: 0.9777 - val_accuracy: 0.6298 - lr: 1.0000e-05\n",
            "Epoch 12/20\n",
            "49/49 [==============================] - 15s 310ms/step - loss: 0.5946 - accuracy: 0.6373 - val_loss: 0.9549 - val_accuracy: 0.6324 - lr: 1.0000e-05\n",
            "Epoch 13/20\n",
            "49/49 [==============================] - 15s 317ms/step - loss: 0.5502 - accuracy: 0.6598 - val_loss: 1.0169 - val_accuracy: 0.6375 - lr: 1.0000e-05\n",
            "Epoch 14/20\n",
            "49/49 [==============================] - 15s 314ms/step - loss: 0.5150 - accuracy: 0.7447 - val_loss: 1.1542 - val_accuracy: 0.6787 - lr: 1.0000e-05\n",
            "Epoch 15/20\n",
            "49/49 [==============================] - 15s 307ms/step - loss: 0.4648 - accuracy: 0.8309 - val_loss: 1.2493 - val_accuracy: 0.7044 - lr: 1.0000e-05\n",
            "Epoch 16/20\n",
            "49/49 [==============================] - 16s 315ms/step - loss: 0.4946 - accuracy: 0.8489 - val_loss: 1.1609 - val_accuracy: 0.6632 - lr: 1.0000e-05\n",
            "Epoch 17/20\n",
            "49/49 [==============================] - 17s 344ms/step - loss: 0.4443 - accuracy: 0.8431 - val_loss: 1.1333 - val_accuracy: 0.6889 - lr: 1.0000e-05\n",
            "Epoch 18/20\n",
            "49/49 [==============================] - 16s 319ms/step - loss: 0.4231 - accuracy: 0.8592 - val_loss: 1.2057 - val_accuracy: 0.6889 - lr: 1.0000e-05\n",
            "Epoch 19/20\n",
            "49/49 [==============================] - 15s 308ms/step - loss: 0.4045 - accuracy: 0.8701 - val_loss: 1.2545 - val_accuracy: 0.7018 - lr: 1.0000e-05\n",
            "Epoch 20/20\n",
            "49/49 [==============================] - 16s 321ms/step - loss: 0.4064 - accuracy: 0.8643 - val_loss: 1.3070 - val_accuracy: 0.6992 - lr: 1.0000e-05\n"
          ]
        }
      ]
    },
    {
      "cell_type": "code",
      "source": [
        "print(\"Evaluate on test data\")\n",
        "results = model.evaluate(x = test_data , y = y_test )\n",
        "print(\"test loss, test acc:\", results)\n",
        "print(\"Accuracy of the model is - \" , results[1]*100 , \"%\")"
      ],
      "metadata": {
        "id": "B9kHFHlMvUBh",
        "colab": {
          "base_uri": "https://localhost:8080/"
        },
        "outputId": "d71fd7a5-6d7c-4ec8-f08e-d98ede7ac39d"
      },
      "execution_count": null,
      "outputs": [
        {
          "output_type": "stream",
          "name": "stdout",
          "text": [
            "Evaluate on test data\n",
            "13/13 [==============================] - 1s 107ms/step - loss: 1.3070 - accuracy: 0.6992\n",
            "test loss, test acc: [1.3070168495178223, 0.6992287635803223]\n",
            "Accuracy of the model is -  69.92287635803223 %\n"
          ]
        }
      ]
    },
    {
      "cell_type": "code",
      "source": [
        "from matplotlib import pyplot\n",
        "\n",
        "# plot loss during training\n",
        "pyplot.subplot(211)\n",
        "pyplot.title('Loss')\n",
        "pyplot.plot(history.history['loss'], label='train')\n",
        "pyplot.plot(history.history['val_loss'], label='test')\n",
        "pyplot.legend()\n",
        "# plot accuracy during training"
      ],
      "metadata": {
        "colab": {
          "base_uri": "https://localhost:8080/",
          "height": 268
        },
        "id": "LQiTLYO9w2Aq",
        "outputId": "1fb8dd97-ae15-4de5-9be5-16d5653afd5c"
      },
      "execution_count": null,
      "outputs": [
        {
          "output_type": "execute_result",
          "data": {
            "text/plain": [
              "<matplotlib.legend.Legend at 0x7f6bfb522e00>"
            ]
          },
          "metadata": {},
          "execution_count": 121
        },
        {
          "output_type": "display_data",
          "data": {
            "text/plain": [
              "<Figure size 640x480 with 1 Axes>"
            ],
            "image/png": "[encoded data removed]"
          },
          "metadata": {}
        }
      ]
    },
    {
      "cell_type": "code",
      "source": [
        "pyplot.subplot(212)\n",
        "pyplot.title('Accuracy')\n",
        "pyplot.plot(history.history['accuracy'], label='train')\n",
        "pyplot.plot(history.history['val_accuracy'], label='test')\n",
        "pyplot.legend()\n",
        "pyplot.show()"
      ],
      "metadata": {
        "id": "XFJLovyaw0ZZ"
      },
      "execution_count": null,
      "outputs": []
    },
    {
      "cell_type": "code",
      "source": [
        "from tensorflow.keras.layers import Input, Embedding, SpatialDropout1D, LSTM, Bidirectional, Dense, Activation, concatenate, Multiply, RepeatVector, Lambda, Flatten, add\n",
        "from tensorflow.keras import regularizers\n",
        "from tensorflow.keras.models import Model\n",
        "\n",
        "def bilstm_attention_reg(lstm_units=128, reg_lambda=0.01):\n",
        "    input_text = Input(shape=(max_len,))\n",
        "    input_aspect = Input(shape=(1,))\n",
        "\n",
        "    word_embedding = Embedding(NUM_WORDS, EMBEDDING_SIZE, input_length=max_len)\n",
        "    text_embed = SpatialDropout1D(0.2)(word_embedding(input_text))\n",
        "\n",
        "    asp_embedding = Embedding(NUM_WORDS, EMBEDDING_SIZE, input_length=max_len)\n",
        "\n",
        "    aspect_embed = asp_embedding(input_aspect)\n",
        "    aspect_embed = Flatten()(aspect_embed)\n",
        "    repeat_aspect = RepeatVector(max_len)(aspect_embed)\n",
        "\n",
        "    input_concat = concatenate([text_embed, repeat_aspect], axis=-1)\n",
        "    hidden_vecs, forward_h, forward_c, backward_h, backward_c = Bidirectional(LSTM(lstm_units, return_sequences=True, return_state=True))(input_concat)\n",
        "\n",
        "    # Apply attention mechanism\n",
        "    attend_weight, attend_output = Attention(return_attend_weight=True)(hidden_vecs)\n",
        "    attend_hidden = Multiply()([hidden_vecs, attend_weight])\n",
        "    attend_hidden = Lambda(lambda x: K.sum(x, axis=1))(attend_hidden)\n",
        "\n",
        "    attend_hidden_dense = Dense(lstm_units, kernel_regularizer=regularizers.l2(reg_lambda))(attend_hidden)\n",
        "    forward_dense = Dense(lstm_units, kernel_regularizer=regularizers.l2(reg_lambda))(forward_h)\n",
        "    backward_dense = Dense(lstm_units, kernel_regularizer=regularizers.l2(reg_lambda))(backward_h)\n",
        "    final_output = Activation('tanh')(add([attend_hidden_dense, forward_dense, backward_dense]))\n",
        "\n",
        "    return Model([input_text, input_aspect], final_output)\n"
      ],
      "metadata": {
        "id": "-GjaIm543Fd-"
      },
      "execution_count": null,
      "outputs": []
    },
    {
      "cell_type": "code",
      "source": [
        "learning_rate_reduction = ReduceLROnPlateau(monitor='val_accuracy',\n",
        "                                                    patience = 1,\n",
        "                                                    verbose=1,\n",
        "                                                    factor=0.1,\n",
        "                                                    min_lr=0.00001)\n",
        "\n",
        "from tensorflow.keras.optimizers import Adam\n",
        "\n",
        "model = bilstm_attention_reg()\n",
        "model.compile(loss='sparse_categorical_crossentropy', metrics=['accuracy'], optimizer='adam')\n",
        "\n",
        "history = model.fit(x=train_data, y=y_train, validation_data=(test_data, y_test), batch_size=32, epochs=20, callbacks=[learning_rate_reduction])\n",
        "\n",
        "\n"
      ],
      "metadata": {
        "colab": {
          "base_uri": "https://localhost:8080/"
        },
        "id": "VJFH6FFL3QcJ",
        "outputId": "39512b62-e126-4670-8afe-28af804aa2d6"
      },
      "execution_count": null,
      "outputs": [
        {
          "output_type": "stream",
          "name": "stdout",
          "text": [
            "Epoch 1/20\n",
            "49/49 [==============================] - 25s 348ms/step - loss: 9.4647 - accuracy: 0.3035 - val_loss: 7.1211 - val_accuracy: 0.0000e+00 - lr: 0.0010\n",
            "Epoch 2/20\n",
            "49/49 [==============================] - ETA: 0s - loss: 6.8318 - accuracy: 0.0283\n",
            "Epoch 2: ReduceLROnPlateau reducing learning rate to 0.00010000000474974513.\n",
            "49/49 [==============================] - 15s 311ms/step - loss: 6.8318 - accuracy: 0.0283 - val_loss: 6.2441 - val_accuracy: 0.0000e+00 - lr: 0.0010\n",
            "Epoch 3/20\n",
            "49/49 [==============================] - ETA: 0s - loss: 6.2228 - accuracy: 0.0000e+00\n",
            "Epoch 3: ReduceLROnPlateau reducing learning rate to 1.0000000474974514e-05.\n",
            "49/49 [==============================] - 16s 321ms/step - loss: 6.2228 - accuracy: 0.0000e+00 - val_loss: 6.1898 - val_accuracy: 0.0000e+00 - lr: 1.0000e-04\n",
            "Epoch 4/20\n",
            "49/49 [==============================] - ETA: 0s - loss: 6.1870 - accuracy: 0.0000e+00\n",
            "Epoch 4: ReduceLROnPlateau reducing learning rate to 1e-05.\n",
            "49/49 [==============================] - 17s 344ms/step - loss: 6.1870 - accuracy: 0.0000e+00 - val_loss: 6.1840 - val_accuracy: 0.0000e+00 - lr: 1.0000e-05\n",
            "Epoch 5/20\n",
            "49/49 [==============================] - 16s 319ms/step - loss: 6.1810 - accuracy: 0.0000e+00 - val_loss: 6.1777 - val_accuracy: 0.0000e+00 - lr: 1.0000e-05\n",
            "Epoch 6/20\n",
            "49/49 [==============================] - 17s 341ms/step - loss: 6.1744 - accuracy: 0.0000e+00 - val_loss: 6.1709 - val_accuracy: 0.0000e+00 - lr: 1.0000e-05\n",
            "Epoch 7/20\n",
            "49/49 [==============================] - 16s 324ms/step - loss: 6.1713 - accuracy: 0.0000e+00 - val_loss: 6.1638 - val_accuracy: 0.0000e+00 - lr: 1.0000e-05\n",
            "Epoch 8/20\n",
            "49/49 [==============================] - 15s 316ms/step - loss: 6.1603 - accuracy: 0.0000e+00 - val_loss: 6.1565 - val_accuracy: 0.0000e+00 - lr: 1.0000e-05\n",
            "Epoch 9/20\n",
            "49/49 [==============================] - 16s 326ms/step - loss: 6.1578 - accuracy: 0.0000e+00 - val_loss: 6.1490 - val_accuracy: 0.0000e+00 - lr: 1.0000e-05\n",
            "Epoch 10/20\n",
            "49/49 [==============================] - 16s 328ms/step - loss: 6.1452 - accuracy: 0.0000e+00 - val_loss: 6.1413 - val_accuracy: 0.0000e+00 - lr: 1.0000e-05\n",
            "Epoch 11/20\n",
            "49/49 [==============================] - 16s 323ms/step - loss: 6.1374 - accuracy: 0.0000e+00 - val_loss: 6.1334 - val_accuracy: 0.0000e+00 - lr: 1.0000e-05\n",
            "Epoch 12/20\n",
            "49/49 [==============================] - 19s 387ms/step - loss: 6.1295 - accuracy: 0.0000e+00 - val_loss: 6.1254 - val_accuracy: 0.0000e+00 - lr: 1.0000e-05\n",
            "Epoch 13/20\n",
            "49/49 [==============================] - 17s 346ms/step - loss: 6.1214 - accuracy: 0.0000e+00 - val_loss: 6.1172 - val_accuracy: 0.0000e+00 - lr: 1.0000e-05\n",
            "Epoch 14/20\n",
            "49/49 [==============================] - 16s 326ms/step - loss: 6.1132 - accuracy: 0.0000e+00 - val_loss: 6.1089 - val_accuracy: 0.0000e+00 - lr: 1.0000e-05\n",
            "Epoch 15/20\n",
            "49/49 [==============================] - 16s 325ms/step - loss: 6.1049 - accuracy: 0.0000e+00 - val_loss: 6.1006 - val_accuracy: 0.0000e+00 - lr: 1.0000e-05\n",
            "Epoch 16/20\n",
            "49/49 [==============================] - 16s 325ms/step - loss: 6.0965 - accuracy: 0.0000e+00 - val_loss: 6.0922 - val_accuracy: 0.0000e+00 - lr: 1.0000e-05\n",
            "Epoch 17/20\n",
            "49/49 [==============================] - 15s 313ms/step - loss: 6.0881 - accuracy: 0.0000e+00 - val_loss: 6.0837 - val_accuracy: 0.0000e+00 - lr: 1.0000e-05\n",
            "Epoch 18/20\n",
            "49/49 [==============================] - 16s 325ms/step - loss: 6.0795 - accuracy: 0.0000e+00 - val_loss: 6.0752 - val_accuracy: 0.0000e+00 - lr: 1.0000e-05\n",
            "Epoch 19/20\n",
            "49/49 [==============================] - 16s 326ms/step - loss: 6.0710 - accuracy: 0.0000e+00 - val_loss: 6.0666 - val_accuracy: 0.0000e+00 - lr: 1.0000e-05\n",
            "Epoch 20/20\n",
            "49/49 [==============================] - 16s 326ms/step - loss: 6.0624 - accuracy: 0.0000e+00 - val_loss: 6.0580 - val_accuracy: 0.0000e+00 - lr: 1.0000e-05\n"
          ]
        }
      ]
    }
  ]
}